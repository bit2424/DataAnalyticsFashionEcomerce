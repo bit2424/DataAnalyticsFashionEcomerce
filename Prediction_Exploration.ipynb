{
 "cells": [
  {
   "cell_type": "code",
   "execution_count": 3,
   "metadata": {},
   "outputs": [
    {
     "name": "stderr",
     "output_type": "stream",
     "text": [
      "The system cannot find the file specified.\n",
      "Error occurred while processing: -a.\n",
      "The system cannot find the file specified.\n",
      "Error occurred while processing: python.\n"
     ]
    },
    {
     "name": "stdout",
     "output_type": "stream",
     "text": [
      "Collecting package metadata (current_repodata.json): ...working... done\n",
      "Solving environment: ...working... failed with initial frozen solve. Retrying with flexible solve.\n",
      "Solving environment: ...working... failed with repodata from current_repodata.json, will retry with next repodata source.\n",
      "Collecting package metadata (repodata.json): ...working... done\n",
      "Solving environment: ...working... done\n",
      "\n",
      "## Package Plan ##\n",
      "\n",
      "  environment location: C:\\Users\\ADMI\\anaconda3\n",
      "\n",
      "  added / updated specs:\n",
      "    - voila\n",
      "\n",
      "\n",
      "The following packages will be downloaded:\n",
      "\n",
      "    package                    |            build\n",
      "    ---------------------------|-----------------\n",
      "    conda-4.10.1               |   py38haa244fe_0         3.1 MB  conda-forge\n",
      "    jupyter_server-1.0.9       |   py38haa244fe_0         239 KB  conda-forge\n",
      "    openssl-1.1.1h             |       he774522_0         5.8 MB  conda-forge\n",
      "    voila-0.2.10               |     pyhd8ed1ab_0         1.4 MB  conda-forge\n",
      "    ------------------------------------------------------------\n",
      "                                           Total:        10.4 MB\n",
      "\n",
      "The following NEW packages will be INSTALLED:\n",
      "\n",
      "  jupyter_server     conda-forge/win-64::jupyter_server-1.0.9-py38haa244fe_0\n",
      "  voila              conda-forge/noarch::voila-0.2.10-pyhd8ed1ab_0\n",
      "\n",
      "The following packages will be UPDATED:\n",
      "\n",
      "  conda                                4.9.2-py38haa244fe_0 --> 4.10.1-py38haa244fe_0\n",
      "\n",
      "The following packages will be SUPERSEDED by a higher-priority channel:\n",
      "\n",
      "  openssl                                         pkgs/main --> conda-forge\n",
      "\n",
      "\n",
      "\n",
      "Downloading and Extracting Packages\n",
      "\n",
      "conda-4.10.1         | 3.1 MB    |            |   0% \n",
      "conda-4.10.1         | 3.1 MB    |            |   1% \n",
      "conda-4.10.1         | 3.1 MB    | ####       |  41% \n",
      "conda-4.10.1         | 3.1 MB    | ########1  |  82% \n",
      "conda-4.10.1         | 3.1 MB    | ########## | 100% \n",
      "\n",
      "openssl-1.1.1h       | 5.8 MB    |            |   0% \n",
      "openssl-1.1.1h       | 5.8 MB    | #          |  10% \n",
      "openssl-1.1.1h       | 5.8 MB    | ###1       |  32% \n",
      "openssl-1.1.1h       | 5.8 MB    | #####2     |  52% \n",
      "openssl-1.1.1h       | 5.8 MB    | #######1   |  71% \n",
      "openssl-1.1.1h       | 5.8 MB    | #########1 |  92% \n",
      "openssl-1.1.1h       | 5.8 MB    | ########## | 100% \n",
      "\n",
      "jupyter_server-1.0.9 | 239 KB    |            |   0% \n",
      "jupyter_server-1.0.9 | 239 KB    | 6          |   7% \n",
      "jupyter_server-1.0.9 | 239 KB    | #######3   |  74% \n",
      "jupyter_server-1.0.9 | 239 KB    | ########## | 100% \n",
      "jupyter_server-1.0.9 | 239 KB    | ########## | 100% \n",
      "\n",
      "voila-0.2.10         | 1.4 MB    |            |   0% \n",
      "voila-0.2.10         | 1.4 MB    | #####1     |  52% \n",
      "voila-0.2.10         | 1.4 MB    | ########## | 100% \n",
      "voila-0.2.10         | 1.4 MB    | ########## | 100% \n",
      "Preparing transaction: ...working... done\n",
      "Verifying transaction: ...working... done\n",
      "Executing transaction: ...working... done\n"
     ]
    }
   ],
   "source": [
    "!type -a python"
   ]
  },
  {
   "cell_type": "code",
   "execution_count": 1,
   "metadata": {
    "colab": {
     "base_uri": "https://localhost:8080/"
    },
    "executionInfo": {
     "elapsed": 39704,
     "status": "ok",
     "timestamp": 1619379347405,
     "user": {
      "displayName": "nelson quiñones",
      "photoUrl": "",
      "userId": "16201222559466734098"
     },
     "user_tz": 300
    },
    "id": "z9ZZaR2x5eYg",
    "outputId": "a32482b7-8d01-4d3e-a982-59a10b3eff55"
   },
   "outputs": [
    {
     "ename": "ModuleNotFoundError",
     "evalue": "No module named 'plotly'",
     "output_type": "error",
     "traceback": [
      "\u001b[1;31m---------------------------------------------------------------------------\u001b[0m",
      "\u001b[1;31mModuleNotFoundError\u001b[0m                       Traceback (most recent call last)",
      "\u001b[1;32m<ipython-input-1-d25ab9b5b52f>\u001b[0m in \u001b[0;36m<module>\u001b[1;34m\u001b[0m\n\u001b[0;32m      3\u001b[0m \u001b[1;32mimport\u001b[0m \u001b[0mmatplotlib\u001b[0m\u001b[1;33m.\u001b[0m\u001b[0mpyplot\u001b[0m \u001b[1;32mas\u001b[0m \u001b[0mplt\u001b[0m\u001b[1;33m\u001b[0m\u001b[1;33m\u001b[0m\u001b[0m\n\u001b[0;32m      4\u001b[0m \u001b[1;32mimport\u001b[0m \u001b[0mseaborn\u001b[0m \u001b[1;32mas\u001b[0m \u001b[0msns\u001b[0m\u001b[1;33m\u001b[0m\u001b[1;33m\u001b[0m\u001b[0m\n\u001b[1;32m----> 5\u001b[1;33m \u001b[1;32mimport\u001b[0m \u001b[0mplotly\u001b[0m\u001b[1;33m.\u001b[0m\u001b[0mexpress\u001b[0m \u001b[1;32mas\u001b[0m \u001b[0mpx\u001b[0m\u001b[1;33m\u001b[0m\u001b[1;33m\u001b[0m\u001b[0m\n\u001b[0m\u001b[0;32m      6\u001b[0m \u001b[1;32mimport\u001b[0m \u001b[0mplotly\u001b[0m\u001b[1;33m.\u001b[0m\u001b[0mgraph_objects\u001b[0m \u001b[1;32mas\u001b[0m \u001b[0mgo\u001b[0m\u001b[1;33m\u001b[0m\u001b[1;33m\u001b[0m\u001b[0m\n\u001b[0;32m      7\u001b[0m \u001b[1;32mfrom\u001b[0m \u001b[0mplotly\u001b[0m\u001b[1;33m.\u001b[0m\u001b[0msubplots\u001b[0m \u001b[1;32mimport\u001b[0m \u001b[0mmake_subplots\u001b[0m\u001b[1;33m\u001b[0m\u001b[1;33m\u001b[0m\u001b[0m\n",
      "\u001b[1;31mModuleNotFoundError\u001b[0m: No module named 'plotly'"
     ]
    }
   ],
   "source": [
    "import pandas as pd\n",
    "import numpy as np\n",
    "import matplotlib.pyplot as plt\n",
    "import seaborn as sns\n",
    "import plotly.express as px\n",
    "import plotly.graph_objects as go\n",
    "from plotly.subplots import make_subplots\n",
    "#!pip install pywaffle --quiet\n",
    "from wordcloud import WordCloud\n",
    "\n",
    "from google.colab import drive \n",
    "\n",
    "drive.mount('/content/drive')"
   ]
  },
  {
   "cell_type": "code",
   "execution_count": null,
   "metadata": {
    "colab": {
     "base_uri": "https://localhost:8080/"
    },
    "executionInfo": {
     "elapsed": 40316,
     "status": "ok",
     "timestamp": 1619379348026,
     "user": {
      "displayName": "nelson quiñones",
      "photoUrl": "",
      "userId": "16201222559466734098"
     },
     "user_tz": 300
    },
    "id": "Ts8rwI4O6Coy",
    "outputId": "8a5ed9af-0433-49e2-a550-93fb4f5e3ea2"
   },
   "outputs": [],
   "source": [
    "df = pd.read_csv(\"/content/drive/MyDrive/Proyecto Final IA/summer-products-with-rating-and-performance_2020-08.csv\")\n",
    "#/summer-products-with-rating-and-performance_2020-08.csv\n",
    "print(df.columns)\n",
    "print(\"\\n\")\n",
    "print(df.shape)\n",
    "#https://www.kaggle.com/jmmvutu/summer-products-and-sales-in-ecommerce-wish"
   ]
  },
  {
   "cell_type": "code",
   "execution_count": null,
   "metadata": {
    "colab": {
     "base_uri": "https://localhost:8080/",
     "height": 499
    },
    "executionInfo": {
     "elapsed": 40911,
     "status": "ok",
     "timestamp": 1619379348635,
     "user": {
      "displayName": "nelson quiñones",
      "photoUrl": "",
      "userId": "16201222559466734098"
     },
     "user_tz": 300
    },
    "id": "KW-PDGw9NFpM",
    "outputId": "6f5ba331-1b81-4c43-cbbb-0ddd86f53974"
   },
   "outputs": [],
   "source": [
    "plt.figure(figsize=(12,6))\n",
    "sns.boxplot(df[\"price\"])"
   ]
  },
  {
   "cell_type": "code",
   "execution_count": null,
   "metadata": {
    "colab": {
     "base_uri": "https://localhost:8080/",
     "height": 554
    },
    "executionInfo": {
     "elapsed": 40900,
     "status": "ok",
     "timestamp": 1619379348637,
     "user": {
      "displayName": "nelson quiñones",
      "photoUrl": "",
      "userId": "16201222559466734098"
     },
     "user_tz": 300
    },
    "id": "9tWvQi0INMWL",
    "outputId": "9e8f578f-054b-4dc4-f305-ae7d195e5748"
   },
   "outputs": [],
   "source": [
    "outliyers = df.loc[df.price > 18,:].index\n",
    "df = df.drop(outliyers, axis=0)\n",
    "print(outliyers)\n",
    "plt.figure(figsize=(12,6))\n",
    "sns.boxplot(df[\"price\"])"
   ]
  },
  {
   "cell_type": "code",
   "execution_count": null,
   "metadata": {
    "executionInfo": {
     "elapsed": 40900,
     "status": "ok",
     "timestamp": 1619379348638,
     "user": {
      "displayName": "nelson quiñones",
      "photoUrl": "",
      "userId": "16201222559466734098"
     },
     "user_tz": 300
    },
    "id": "sCnJXfzxGquo"
   },
   "outputs": [],
   "source": [
    "#interesting_features = [\"price\",\"units_sold\",\"uses_ad_boosts\",\"rating\",\"rating_count\",\"shipping_is_express\",\"countries_shipped_to\",\"merchant_rating_count\",\"merchant_rating\"]\n",
    "#interesting_features = ['retail_price','units_sold', 'price', 'rating', 'rating_count','rating_five_count', 'rating_one_count', 'rating_three_count', 'rating_two_count', 'rating_four_count','badge_local_product', 'product_variation_inventory', 'shipping_option_price', 'merchant_rating_count', 'merchant_rating']\n",
    "#df.info\n",
    "interesting_features = [\"price\",\"units_sold\",\"uses_ad_boosts\",\"rating\",\"merchant_rating_count\",\"merchant_rating\"]\n",
    "#interesting_features = [\"price\",\"units_sold\",\"uses_ad_boosts\",\"rating\",\"rating_count\",\"merchant_rating\"]\n",
    "#interesting_features = [\"units_sold\",\"price\",\"uses_ad_boosts\",\"rating\",\"rating_count\"]\n",
    "#interesting_features = [\"price\",\"rating\",\"rating_count\",\"merchant_rating_count\",\"merchant_rating\"]"
   ]
  },
  {
   "cell_type": "code",
   "execution_count": null,
   "metadata": {
    "colab": {
     "base_uri": "https://localhost:8080/"
    },
    "executionInfo": {
     "elapsed": 40895,
     "status": "ok",
     "timestamp": 1619379348639,
     "user": {
      "displayName": "nelson quiñones",
      "photoUrl": "",
      "userId": "16201222559466734098"
     },
     "user_tz": 300
    },
    "id": "-JYGFUSS6UPH",
    "outputId": "75eb2c88-28c0-491a-e78f-ec1832842ff3"
   },
   "outputs": [],
   "source": [
    "#df_interesting = df.iloc[:,[0,2,5,6,7,8,9,10,11,12,13,18,19,24,25,27,28]]\n",
    "\n",
    "df_interesting = df.loc[:,interesting_features]\n",
    "print(df_interesting.columns)\n",
    "print(\"\\n\")\n",
    "print(df_interesting.shape)\n",
    "print(df_interesting.dtypes)\n",
    "print(df_interesting.info())"
   ]
  },
  {
   "cell_type": "code",
   "execution_count": null,
   "metadata": {
    "executionInfo": {
     "elapsed": 41160,
     "status": "ok",
     "timestamp": 1619379348907,
     "user": {
      "displayName": "nelson quiñones",
      "photoUrl": "",
      "userId": "16201222559466734098"
     },
     "user_tz": 300
    },
    "id": "xBbzjzVZSZBl"
   },
   "outputs": [],
   "source": [
    "# exam = [\"price\",\"units_sold\",\"rating_count\",\"rating\",\"shipping_is_express\"]\n",
    "# df_mini = df.loc[:,exam]\n",
    "# sns.pairplot(df_mini,height=3);"
   ]
  },
  {
   "cell_type": "code",
   "execution_count": null,
   "metadata": {
    "colab": {
     "base_uri": "https://localhost:8080/",
     "height": 298
    },
    "executionInfo": {
     "elapsed": 41450,
     "status": "ok",
     "timestamp": 1619379349209,
     "user": {
      "displayName": "nelson quiñones",
      "photoUrl": "",
      "userId": "16201222559466734098"
     },
     "user_tz": 300
    },
    "id": "Db2KdaShWjSl",
    "outputId": "63ad2c0e-fe77-40ef-fd6a-8bc744ec4cc3"
   },
   "outputs": [],
   "source": [
    "sns.scatterplot(y= df.price, x=df.rating_count)\n",
    "sns.scatterplot(y= df.price, x=df.rating_four_count)\n",
    "#El rating count nos da la misma información respecto al precio"
   ]
  },
  {
   "cell_type": "code",
   "execution_count": null,
   "metadata": {
    "executionInfo": {
     "elapsed": 41448,
     "status": "ok",
     "timestamp": 1619379349210,
     "user": {
      "displayName": "nelson quiñones",
      "photoUrl": "",
      "userId": "16201222559466734098"
     },
     "user_tz": 300
    },
    "id": "Yh4-Ug68aOZV"
   },
   "outputs": [],
   "source": [
    "#exam = [\"price\",\"rating_five_count\",\"rating_count\"]\n",
    "#df_mini = df.loc[:,exam]\n",
    "#sns.pairplot(df_mini,height=3);\n",
    "#Confirmamos la teoría de que nos brindan la misma información"
   ]
  },
  {
   "cell_type": "code",
   "execution_count": null,
   "metadata": {
    "executionInfo": {
     "elapsed": 41448,
     "status": "ok",
     "timestamp": 1619379349211,
     "user": {
      "displayName": "nelson quiñones",
      "photoUrl": "",
      "userId": "16201222559466734098"
     },
     "user_tz": 300
    },
    "id": "IKAVTR_rUTHn"
   },
   "outputs": [],
   "source": [
    "#df_interesting[\"units_sold\"].astype(\"int\")\n",
    "#df_interesting.units_sold.describe()\n",
    "#Intentar hacer los clusters partiendo de la cantidad de unidades vendidas\n",
    "\n",
    "\n",
    "# %matplotlib inline\n",
    "# import matplotlib.pyplot as plt\n",
    "# import seaborn as sns; sns.set()\n",
    "# import numpy as np\n",
    "# from sklearn.mixture import GaussianMixture\n",
    "\n",
    "# X_cluster =  df.loc[:,[\"price\",\"units_sold\"]]\n",
    "# gmm = GaussianMixture(n_components=6, random_state=42)\n",
    "# gmm.fit(X_cluster)\n",
    "# labels = gmm.predict(X_cluster)\n",
    "# sns.scatterplot(X_cluster.iloc[:,0].values, X_cluster.iloc[:, 1].values, c=labels, s=40, cmap='viridis')\n",
    "# one_hot_units_sold = pd.get_dummies(labels, prefix='unit_sold_cat')\n",
    "# df_interesting = pd.concat([df_interesting,one_hot_units_sold],axis=1, join='inner');\n",
    "# df_interesting = df_interesting.drop(\"units_sold\",axis=1)\n",
    "# print(df_interesting.columns)\n",
    "# interesting_features = df_interesting.columns.values\n",
    "#print(gmm.)"
   ]
  },
  {
   "cell_type": "code",
   "execution_count": null,
   "metadata": {
    "colab": {
     "base_uri": "https://localhost:8080/"
    },
    "executionInfo": {
     "elapsed": 41445,
     "status": "ok",
     "timestamp": 1619379349212,
     "user": {
      "displayName": "nelson quiñones",
      "photoUrl": "",
      "userId": "16201222559466734098"
     },
     "user_tz": 300
    },
    "id": "d7PTCJjrLe7z",
    "outputId": "38c533fb-c6cf-4fbb-c587-c87f6fe468a8"
   },
   "outputs": [],
   "source": [
    "def plot_missing_data(df):\n",
    "    columns_with_null = df.columns[df.isna().sum() > 0]\n",
    "    null_pct = (df[columns_with_null].isna().sum() / df.shape[0]).sort_values(ascending=False)*100\n",
    "    plt.figure(figsize=(8,6));\n",
    "    sns.barplot(y = null_pct.index, x = null_pct, orient='h')\n",
    "    plt.title('% Na values in dataframe by columns');\n",
    "print(df_interesting.shape)\n",
    "plot_missing_data(df_interesting)"
   ]
  },
  {
   "cell_type": "code",
   "execution_count": null,
   "metadata": {
    "executionInfo": {
     "elapsed": 41447,
     "status": "ok",
     "timestamp": 1619379349215,
     "user": {
      "displayName": "nelson quiñones",
      "photoUrl": "",
      "userId": "16201222559466734098"
     },
     "user_tz": 300
    },
    "id": "QgG5Yr7nLnqV"
   },
   "outputs": [],
   "source": [
    "#Limpiando los nands\n",
    "df_interesting = df_interesting.fillna(0)"
   ]
  },
  {
   "cell_type": "code",
   "execution_count": null,
   "metadata": {
    "executionInfo": {
     "elapsed": 41446,
     "status": "ok",
     "timestamp": 1619379349215,
     "user": {
      "displayName": "nelson quiñones",
      "photoUrl": "",
      "userId": "16201222559466734098"
     },
     "user_tz": 300
    },
    "id": "1px0FoVSOhbz"
   },
   "outputs": [],
   "source": [
    "#plot_missing_data(df_interesting)"
   ]
  },
  {
   "cell_type": "code",
   "execution_count": null,
   "metadata": {
    "colab": {
     "base_uri": "https://localhost:8080/"
    },
    "executionInfo": {
     "elapsed": 41664,
     "status": "ok",
     "timestamp": 1619379349436,
     "user": {
      "displayName": "nelson quiñones",
      "photoUrl": "",
      "userId": "16201222559466734098"
     },
     "user_tz": 300
    },
    "id": "Vg7hRtFrMVGs",
    "outputId": "4265f3a7-04f5-4c32-eae8-4d8cf04e415f"
   },
   "outputs": [],
   "source": [
    "#Normalizar los datos en el data set\n",
    "\n",
    "from sklearn import preprocessing\n",
    "\n",
    "\n",
    "# df_units_sold = df.units_sold\n",
    "# x = df_interesting.drop(\"units_sold\",axis=1).values #returns a numpy array\n",
    "# min_max_scaler = preprocessing.MinMaxScaler()\n",
    "# x_scaled = min_max_scaler.fit_transform(x)\n",
    "# #print(x,\"\\n\")\n",
    "# #print(x_scaled)\n",
    "# df_interesting = pd.DataFrame(x_scaled)\n",
    "# print(df_interesting.info())\n",
    "# df_interesting = pd.concat([df.units_sold,df_interesting], axis=1, join=\"inner\")\n",
    "# df_interesting.columns = interesting_features\n",
    "# df_interesting = df_interesting.fillna(0)\n",
    "#df_interesting.columns.set_name(interesting_features)\n",
    "\n",
    "print(df_interesting.info())\n",
    "print(df_interesting.price)"
   ]
  },
  {
   "cell_type": "markdown",
   "metadata": {
    "id": "Ue3syRdOZCnB"
   },
   "source": [
    "Modelo de regresión con RandomForestRegressor"
   ]
  },
  {
   "cell_type": "code",
   "execution_count": null,
   "metadata": {
    "colab": {
     "base_uri": "https://localhost:8080/"
    },
    "executionInfo": {
     "elapsed": 42132,
     "status": "ok",
     "timestamp": 1619379349907,
     "user": {
      "displayName": "nelson quiñones",
      "photoUrl": "",
      "userId": "16201222559466734098"
     },
     "user_tz": 300
    },
    "id": "UV4vwIMhHcq3",
    "outputId": "878aca6f-fcb4-40a8-bb27-1340d64ec062"
   },
   "outputs": [],
   "source": [
    "from sklearn.model_selection import train_test_split\n",
    "from sklearn.ensemble import RandomForestRegressor\n",
    "from sklearn.datasets import make_regression\n",
    "print(df_interesting.shape)\n",
    "df_objective = df_interesting.loc[:,[\"units_sold\"]]\n",
    "df_interesting = df_interesting.drop(\"units_sold\",axis=1)\n",
    "\n",
    "trainig_size = 0.7\n",
    "testing_size = 1-trainig_size\n",
    "random_seed = 42\n",
    "print(df_interesting.info())\n",
    "#df_interesting.info()\n",
    "X_train, X_test, y_train, y_test = train_test_split(df_interesting, df_objective, test_size=testing_size, random_state=random_seed,shuffle=True)"
   ]
  },
  {
   "cell_type": "code",
   "execution_count": null,
   "metadata": {
    "colab": {
     "base_uri": "https://localhost:8080/"
    },
    "executionInfo": {
     "elapsed": 46038,
     "status": "ok",
     "timestamp": 1619379353818,
     "user": {
      "displayName": "nelson quiñones",
      "photoUrl": "",
      "userId": "16201222559466734098"
     },
     "user_tz": 300
    },
    "id": "QGTfde877DcS",
    "outputId": "7bb84bad-ac9a-4b49-aa0a-7fe6cac71eca"
   },
   "outputs": [],
   "source": [
    "#Escoger hiper parametros para la regresión \n",
    "x_vals = []\n",
    "y_scores = []\n",
    "#X_test.drop(\"prediction\",axis=1)\n",
    "for i in range(10,20):\n",
    "  regr = RandomForestRegressor(max_depth=i, random_state=random_seed)\n",
    "  regr.fit(X_train, y_train)\n",
    "  y_predict = regr.predict(X_test)\n",
    "  #y_predict = regr.predict(X_test.drop(\"prediction\",axis=1))\n",
    "  x_vals.append(i)\n",
    "  y_scores.append(regr.score(X_test, y_test, sample_weight=None))\n",
    "  #print(X_test)\n",
    "\n"
   ]
  },
  {
   "cell_type": "code",
   "execution_count": null,
   "metadata": {
    "colab": {
     "base_uri": "https://localhost:8080/",
     "height": 303
    },
    "executionInfo": {
     "elapsed": 46356,
     "status": "ok",
     "timestamp": 1619379354148,
     "user": {
      "displayName": "nelson quiñones",
      "photoUrl": "",
      "userId": "16201222559466734098"
     },
     "user_tz": 300
    },
    "id": "Hkv5vrvJ_55S",
    "outputId": "d75b102c-bc0c-419d-e8e6-8f05dcfc24c5"
   },
   "outputs": [],
   "source": [
    "sns.scatterplot(x=x_vals,y=y_scores)\n",
    "print(y_scores)"
   ]
  },
  {
   "cell_type": "code",
   "execution_count": null,
   "metadata": {
    "colab": {
     "base_uri": "https://localhost:8080/",
     "height": 1000
    },
    "executionInfo": {
     "elapsed": 47315,
     "status": "ok",
     "timestamp": 1619379355120,
     "user": {
      "displayName": "nelson quiñones",
      "photoUrl": "",
      "userId": "16201222559466734098"
     },
     "user_tz": 300
    },
    "id": "TYy5i-FLP_Tz",
    "outputId": "cd69cdb3-a80f-40bc-9a9f-fc0af0f85c00"
   },
   "outputs": [],
   "source": [
    "regr = RandomForestRegressor(random_state=random_seed)\n",
    "regr.fit(X_train, y_train)\n",
    "y_predict = regr.predict(X_test)\n",
    "print(df_interesting.info())\n",
    "print(regr.score(X_test, y_test))\n",
    "#y_predict = regr.predict(X_test)\n",
    "#print(X_test)\n",
    "for i in range(3):\n",
    "  x_nums = X_test.iloc[:,[i]].values\n",
    "  #X_test[\"prediction\"] = x_nums\n",
    "  #sns.pairplot(X_test,height=3);\n",
    "  plt.scatter(y_predict,x_nums,color= \"red\")\n",
    "  plt.scatter(y_test,x_nums)\n",
    "  plt.show()"
   ]
  },
  {
   "cell_type": "code",
   "execution_count": null,
   "metadata": {
    "colab": {
     "base_uri": "https://localhost:8080/"
    },
    "executionInfo": {
     "elapsed": 47314,
     "status": "ok",
     "timestamp": 1619379355122,
     "user": {
      "displayName": "nelson quiñones",
      "photoUrl": "",
      "userId": "16201222559466734098"
     },
     "user_tz": 300
    },
    "id": "9VSyu-p-SuU6",
    "outputId": "a26b1f14-8659-4c6c-a97e-3901d8fcb105"
   },
   "outputs": [],
   "source": [
    " print(regr.score(X_test, y_test, sample_weight=None))\n"
   ]
  },
  {
   "cell_type": "code",
   "execution_count": null,
   "metadata": {
    "colab": {
     "base_uri": "https://localhost:8080/"
    },
    "executionInfo": {
     "elapsed": 47588,
     "status": "ok",
     "timestamp": 1619379355402,
     "user": {
      "displayName": "nelson quiñones",
      "photoUrl": "",
      "userId": "16201222559466734098"
     },
     "user_tz": 300
    },
    "id": "Yi0BYIjeYgCu",
    "outputId": "f6c52bd7-2730-4344-b1ac-394b130243bd"
   },
   "outputs": [],
   "source": [
    "print(regr.feature_importances_)"
   ]
  },
  {
   "cell_type": "markdown",
   "metadata": {
    "id": "AjfGE_h1jPZQ"
   },
   "source": [
    "Clasificación con support vector machine\n",
    "\n"
   ]
  },
  {
   "cell_type": "code",
   "execution_count": null,
   "metadata": {
    "colab": {
     "base_uri": "https://localhost:8080/",
     "height": 1000
    },
    "executionInfo": {
     "elapsed": 48359,
     "status": "ok",
     "timestamp": 1619379356184,
     "user": {
      "displayName": "nelson quiñones",
      "photoUrl": "",
      "userId": "16201222559466734098"
     },
     "user_tz": 300
    },
    "id": "iDVtqdOxgu_k",
    "outputId": "bf0afbd6-a92b-4120-dd21-9ad22df62253"
   },
   "outputs": [],
   "source": [
    "from sklearn.svm import SVC\n",
    "from sklearn import svm\n",
    "from sklearn.metrics import accuracy_score\n",
    "from sklearn.metrics import confusion_matrix\n",
    "\n",
    "y_train = y_train.astype(int)\n",
    "y_test.astype(int)\n",
    "\n",
    "SVC_model = svm.LinearSVC()\n",
    "SVC_model.fit(X_train, y_train.values.ravel())\n",
    "y_predict = SVC_model.predict(X_test)\n",
    "\n",
    "print(accuracy_score(y_predict, y_test.astype(int)))\n",
    "print(confusion_matrix(y_predict, y_test.astype(int)))\n",
    "\n",
    "for i in range(3):\n",
    "  x_nums = X_test.iloc[:,[i]].values\n",
    "  #X_test[\"prediction\"] = x_nums\n",
    "  #sns.pairplot(X_test,height=3);\n",
    "  plt.scatter(y_predict,x_nums,color= \"red\")\n",
    "  #plt.scatter(y_test,x_nums)\n",
    "  plt.show()"
   ]
  },
  {
   "cell_type": "markdown",
   "metadata": {
    "id": "EGTQJIRX6xtU"
   },
   "source": [
    "Clasificación con desicion tree clasifier"
   ]
  },
  {
   "cell_type": "code",
   "execution_count": null,
   "metadata": {
    "colab": {
     "base_uri": "https://localhost:8080/",
     "height": 779
    },
    "executionInfo": {
     "elapsed": 48953,
     "status": "ok",
     "timestamp": 1619379356791,
     "user": {
      "displayName": "nelson quiñones",
      "photoUrl": "",
      "userId": "16201222559466734098"
     },
     "user_tz": 300
    },
    "id": "9ZuBxex46vs2",
    "outputId": "5bcf24cf-1c8b-4371-a2dc-6cf778f75434"
   },
   "outputs": [],
   "source": [
    "from sklearn.tree import DecisionTreeClassifier\n",
    "from sklearn import metrics\n",
    "\n",
    "# Create Decision Tree classifer object\n",
    "clf = DecisionTreeClassifier()\n",
    "y_train = y_train.astype(int)\n",
    "# Train Decision Tree Classifer\n",
    "clf = clf.fit(X_train,y_train)\n",
    "#Predict the response for test dataset\n",
    "y_predict = clf.predict(X_test)\n",
    "\n",
    "print(accuracy_score(y_predict, y_test.astype(int)))\n",
    "\n",
    "for i in range(3):\n",
    "  x_nums = X_test.iloc[:,[i]].values\n",
    "  #X_test[\"prediction\"] = x_nums\n",
    "  #sns.pairplot(X_test,height=3);\n",
    "  plt.scatter(y_predict,x_nums,color= \"red\")\n",
    "  #plt.scatter(y_test,x_nums)\n",
    "  plt.show()"
   ]
  },
  {
   "cell_type": "code",
   "execution_count": null,
   "metadata": {
    "colab": {
     "base_uri": "https://localhost:8080/"
    },
    "executionInfo": {
     "elapsed": 48949,
     "status": "ok",
     "timestamp": 1619379356792,
     "user": {
      "displayName": "nelson quiñones",
      "photoUrl": "",
      "userId": "16201222559466734098"
     },
     "user_tz": 300
    },
    "id": "-IdwMYvMf4T4",
    "outputId": "64bfeb52-baba-4f68-cd4b-945a43a1c158"
   },
   "outputs": [],
   "source": [
    "# hacemos una copia del dataset para no perder el original\n",
    "from copy import deepcopy\n",
    "train_train = deepcopy(df_interesting)\n",
    "# remplazamos los nans por la media confiando en que no afectara demasiado la respuesta\n",
    "train_train = train_train.fillna(train_train.mean())\n",
    "input = X_train\n",
    "train = deepcopy(df)\n",
    "train = df_objective['units_sold'].astype(\"int64\")\n",
    "output = y_train\n",
    "model = DecisionTreeClassifier()\n",
    "model.fit(X=input, y=output)"
   ]
  },
  {
   "cell_type": "code",
   "execution_count": null,
   "metadata": {
    "colab": {
     "base_uri": "https://localhost:8080/"
    },
    "executionInfo": {
     "elapsed": 48945,
     "status": "ok",
     "timestamp": 1619379356793,
     "user": {
      "displayName": "nelson quiñones",
      "photoUrl": "",
      "userId": "16201222559466734098"
     },
     "user_tz": 300
    },
    "id": "cGUzHi4-f74S",
    "outputId": "55da0506-49a3-4d55-ed27-53c3e9d1ed19"
   },
   "outputs": [],
   "source": [
    "predictions = model.predict(X_test)\n",
    "#comp = np.array([(np.abs(df['price'][i] - predictions[i]) < 3) for i in range(len(df))])\n",
    "#print(100*np.sum(comp)/len(comp), \"%\")\n",
    "print(accuracy_score(predictions, y_test.astype(int)))\n",
    "print(model.feature_importances_)"
   ]
  },
  {
   "cell_type": "code",
   "execution_count": null,
   "metadata": {
    "colab": {
     "base_uri": "https://localhost:8080/",
     "height": 1000
    },
    "executionInfo": {
     "elapsed": 49654,
     "status": "ok",
     "timestamp": 1619379357513,
     "user": {
      "displayName": "nelson quiñones",
      "photoUrl": "",
      "userId": "16201222559466734098"
     },
     "user_tz": 300
    },
    "id": "zo3_sdpW0YH9",
    "outputId": "54d5d223-a52c-48ca-cf7a-de0a60743dd6"
   },
   "outputs": [],
   "source": [
    "from sklearn.ensemble import ExtraTreesRegressor\n",
    "\n",
    "\n",
    "reg = ExtraTreesRegressor(n_estimators=10, random_state=random_seed).fit(X_train, y_train)\n",
    "print(reg.score(X_test, y_test))\n",
    "\n",
    "y_predict = reg.predict(X_test)\n",
    "print(df_interesting.info())\n",
    "#y_predict = regr.predict(X_test)\n",
    "#print(X_test)\n",
    "for i in range(3):\n",
    "  x_nums = X_test.iloc[:,[i]].values\n",
    "  #X_test[\"prediction\"] = x_nums\n",
    "  #sns.pairplot(X_test,height=3);\n",
    "  plt.scatter(y_predict,x_nums,color= \"red\")\n",
    "  plt.scatter(y_test,x_nums)\n",
    "  plt.show()"
   ]
  },
  {
   "cell_type": "code",
   "execution_count": null,
   "metadata": {
    "colab": {
     "base_uri": "https://localhost:8080/",
     "height": 1000
    },
    "executionInfo": {
     "elapsed": 51266,
     "status": "ok",
     "timestamp": 1619379359137,
     "user": {
      "displayName": "nelson quiñones",
      "photoUrl": "",
      "userId": "16201222559466734098"
     },
     "user_tz": 300
    },
    "id": "VkecJjhD4IGj",
    "outputId": "4b6654c2-538b-44d1-a28a-2b11e9600047"
   },
   "outputs": [],
   "source": [
    "x_vals = []\n",
    "y_scores = []\n",
    "#X_test.drop(\"prediction\",axis=1)\n",
    "for i in range(1,30):\n",
    "  reg = ExtraTreesRegressor(n_estimators=i, random_state=random_seed).fit(X_train, y_train)\n",
    "  y_predict = reg.predict(X_test)\n",
    "  #y_predict = regr.predict(X_test.drop(\"prediction\",axis=1))\n",
    "  x_vals.append(i)\n",
    "  y_scores.append(reg.score(X_test, y_test, sample_weight=None))\n",
    "\n",
    "sns.scatterplot(x=x_vals,y=y_scores)\n",
    "print(y_scores)\n",
    "print(reg.feature_importances_)"
   ]
  },
  {
   "cell_type": "code",
   "execution_count": null,
   "metadata": {},
   "outputs": [],
   "source": [
    "import numpy as np\n",
    "import matplotlib.pyplot as plt\n",
    "from ipywidgets import interactive\n",
    "%matplotlib inline"
   ]
  },
  {
   "cell_type": "code",
   "execution_count": null,
   "metadata": {},
   "outputs": [],
   "source": [
    "def plot_func(a, f):\n",
    "    plt.figure(2)\n",
    "    x = np.linspace(0, 2*np.pi, num=1000)\n",
    "    y = a*np.sin(1/f*x)\n",
    "    plt.plot(x,y)\n",
    "    plt.ylim(-1.1, 1.1)\n",
    "    plt.title('a sin(f)')\n",
    "    plt.show()\n",
    "\n",
    "interactive_plot = interactive(plot_func, a=(-1,0,0.1), f=(0.1, 1))\n",
    "output = interactive_plot.children[-1]\n",
    "output.layout.height = '300px'\n",
    "interactive_plot"
   ]
  }
 ],
 "metadata": {
  "colab": {
   "collapsed_sections": [],
   "name": "Predicción de precios WISH.ipynb",
   "provenance": []
  },
  "kernelspec": {
   "display_name": "Python 3",
   "language": "python",
   "name": "python3"
  }
 },
 "nbformat": 4,
 "nbformat_minor": 4
}
