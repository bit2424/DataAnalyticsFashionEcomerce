{
 "cells": [
  {
   "cell_type": "code",
   "execution_count": 1,
   "metadata": {},
   "outputs": [],
   "source": [
    "import numpy as np\n",
    "import matplotlib.pyplot as plt\n",
    "from ipywidgets import interactive\n",
    "%matplotlib inline"
   ]
  },
  {
   "cell_type": "code",
   "execution_count": 4,
   "metadata": {},
   "outputs": [
    {
     "name": "stdout",
     "output_type": "stream",
     "text": [
      "<bound method NDFrame.head of                                                   title  \\\n",
      "0     2020 Summer Vintage Flamingo Print  Pajamas Se...   \n",
      "1     SSHOUSE Summer Casual Sleeveless Soirée Party ...   \n",
      "2     2020 Nouvelle Arrivée Femmes Printemps et Été ...   \n",
      "3     Hot Summer Cool T-shirt pour les femmes Mode T...   \n",
      "4     Femmes Shorts d'été à lacets taille élastique ...   \n",
      "...                                                 ...   \n",
      "1568  Nouvelle Mode Femmes Bohême Pissenlit Imprimer...   \n",
      "1569  10 couleurs femmes shorts d'été lacent ceintur...   \n",
      "1570  Nouveautés Hommes Siwmwear Beach-Shorts Hommes...   \n",
      "1571  Mode femmes d'été sans manches robes col en V ...   \n",
      "1572  Pantalon de yoga pour femmes à la mode Slim Fi...   \n",
      "\n",
      "                                             title_orig  price  retail_price  \\\n",
      "0     2020 Summer Vintage Flamingo Print  Pajamas Se...  16.00            14   \n",
      "1      Women's Casual Summer Sleeveless Sexy Mini Dress   8.00            22   \n",
      "2     2020 New Arrival Women Spring and Summer Beach...   8.00            43   \n",
      "3     Hot Summer Cool T Shirt for Women Fashion Tops...   8.00             8   \n",
      "4     Women Summer Shorts Lace Up Elastic Waistband ...   2.72             3   \n",
      "...                                                 ...    ...           ...   \n",
      "1568  New Fashion Women Bohemia Dandelion Print Tee ...   6.00             9   \n",
      "1569  10 Color Women Summer Shorts Lace Up Elastic W...   2.00            56   \n",
      "1570  New Men Siwmwear Beach-Shorts Men Summer Quick...   5.00            19   \n",
      "1571  Fashion Women Summer Sleeveless Dresses V Neck...  13.00            11   \n",
      "1572  Fashion Women Yoga Pants Slim Fit Fitness Runn...   7.00             6   \n",
      "\n",
      "     currency_buyer  units_sold  uses_ad_boosts  rating  rating_count  \\\n",
      "0               EUR         100               0    3.76            54   \n",
      "1               EUR       20000               1    3.45          6135   \n",
      "2               EUR         100               0    3.57            14   \n",
      "3               EUR        5000               1    4.03           579   \n",
      "4               EUR         100               1    3.10            20   \n",
      "...             ...         ...             ...     ...           ...   \n",
      "1568            EUR       10000               1    4.08          1367   \n",
      "1569            EUR         100               1    3.07            28   \n",
      "1570            EUR         100               0    3.71            59   \n",
      "1571            EUR         100               0    2.50             2   \n",
      "1572            EUR         100               1    4.07            14   \n",
      "\n",
      "      rating_five_count  ...  merchant_rating_count  merchant_rating  \\\n",
      "0                  26.0  ...                    568         4.128521   \n",
      "1                2269.0  ...                  17752         3.899673   \n",
      "2                   5.0  ...                    295         3.989831   \n",
      "3                 295.0  ...                  23832         4.020435   \n",
      "4                   6.0  ...                  14482         4.001588   \n",
      "...                 ...  ...                    ...              ...   \n",
      "1568              722.0  ...                   5316         4.224605   \n",
      "1569               11.0  ...                   4435         3.696054   \n",
      "1570               24.0  ...                    210         3.961905   \n",
      "1571                0.0  ...                     31         3.774194   \n",
      "1572                8.0  ...                   7023         4.235939   \n",
      "\n",
      "                   merchant_id  merchant_has_profile_picture  \\\n",
      "0     595097d6a26f6e070cb878d1                             0   \n",
      "1     56458aa03a698c35c9050988                             0   \n",
      "2     5d464a1ffdf7bc44ee933c65                             0   \n",
      "3     58cfdefdacb37b556efdff7c                             0   \n",
      "4     5ab3b592c3911a095ad5dadb                             0   \n",
      "...                        ...                           ...   \n",
      "1568  5b507899ab577736508a0782                             0   \n",
      "1569  54d83b6b6b8a771e478558de                             0   \n",
      "1570  5b42da1bf64320209fc8da69                             0   \n",
      "1571  5d56b32c40defd78043d5af9                             0   \n",
      "1572  5a409cf87b584e7951b2e25f                             0   \n",
      "\n",
      "      merchant_profile_picture  \\\n",
      "0                          NaN   \n",
      "1                          NaN   \n",
      "2                          NaN   \n",
      "3                          NaN   \n",
      "4                          NaN   \n",
      "...                        ...   \n",
      "1568                       NaN   \n",
      "1569                       NaN   \n",
      "1570                       NaN   \n",
      "1571                       NaN   \n",
      "1572                       NaN   \n",
      "\n",
      "                                          product_url  \\\n",
      "0     https://www.wish.com/c/5e9ae51d43d6a96e303acdb0   \n",
      "1     https://www.wish.com/c/58940d436a0d3d5da4e95a38   \n",
      "2     https://www.wish.com/c/5ea10e2c617580260d55310a   \n",
      "3     https://www.wish.com/c/5cedf17ad1d44c52c59e4aca   \n",
      "4     https://www.wish.com/c/5ebf5819ebac372b070b0e70   \n",
      "...                                               ...   \n",
      "1568  https://www.wish.com/c/5d5fadc99febd9356cbc52ee   \n",
      "1569  https://www.wish.com/c/5eccd22b4497b86fd48f16b4   \n",
      "1570  https://www.wish.com/c/5e74be96034d613d42b52dfe   \n",
      "1571  https://www.wish.com/c/5eda07ab0e295c2097c36590   \n",
      "1572  https://www.wish.com/c/5e857321f53c3d2d8f25e7ed   \n",
      "\n",
      "                                        product_picture  \\\n",
      "0     https://contestimg.wish.com/api/webimage/5e9ae...   \n",
      "1     https://contestimg.wish.com/api/webimage/58940...   \n",
      "2     https://contestimg.wish.com/api/webimage/5ea10...   \n",
      "3     https://contestimg.wish.com/api/webimage/5cedf...   \n",
      "4     https://contestimg.wish.com/api/webimage/5ebf5...   \n",
      "...                                                 ...   \n",
      "1568  https://contestimg.wish.com/api/webimage/5d5fa...   \n",
      "1569  https://contestimg.wish.com/api/webimage/5eccd...   \n",
      "1570  https://contestimg.wish.com/api/webimage/5e74b...   \n",
      "1571  https://contestimg.wish.com/api/webimage/5eda0...   \n",
      "1572  https://contestimg.wish.com/api/webimage/5e857...   \n",
      "\n",
      "                    product_id   theme crawl_month  \n",
      "0     5e9ae51d43d6a96e303acdb0  summer     2020-08  \n",
      "1     58940d436a0d3d5da4e95a38  summer     2020-08  \n",
      "2     5ea10e2c617580260d55310a  summer     2020-08  \n",
      "3     5cedf17ad1d44c52c59e4aca  summer     2020-08  \n",
      "4     5ebf5819ebac372b070b0e70  summer     2020-08  \n",
      "...                        ...     ...         ...  \n",
      "1568  5d5fadc99febd9356cbc52ee  summer     2020-08  \n",
      "1569  5eccd22b4497b86fd48f16b4  summer     2020-08  \n",
      "1570  5e74be96034d613d42b52dfe  summer     2020-08  \n",
      "1571  5eda07ab0e295c2097c36590  summer     2020-08  \n",
      "1572  5e857321f53c3d2d8f25e7ed  summer     2020-08  \n",
      "\n",
      "[1573 rows x 43 columns]>\n"
     ]
    }
   ],
   "source": [
    "import pandas as pd\n",
    "\n",
    "df = pd.read_csv (r'C:\\Users\\ADMI\\Desktop\\Universidad\\Semestre8\\Inteligencia Artificial\\ProyectoFinal\\summer-products.csv')\n",
    "print (df.head)"
   ]
  },
  {
   "cell_type": "code",
   "execution_count": 5,
   "metadata": {
    "scrolled": true
   },
   "outputs": [
    {
     "data": {
      "application/vnd.jupyter.widget-view+json": {
       "model_id": "488e39820a0f421ea54700cdd838b837",
       "version_major": 2,
       "version_minor": 0
      },
      "text/plain": [
       "interactive(children=(FloatSlider(value=-1.0, description='a', max=0.0, min=-1.0), FloatSlider(value=0.55, des…"
      ]
     },
     "metadata": {},
     "output_type": "display_data"
    }
   ],
   "source": [
    "def plot_func(a, f):\n",
    "    plt.figure(2)\n",
    "    x = np.linspace(0, 2*np.pi, num=1000)\n",
    "    y = a*np.sin(1/f*x)\n",
    "    plt.plot(x,y)\n",
    "    plt.ylim(-1.1, 1.1)\n",
    "    plt.title('a sin(f)')\n",
    "    plt.show()\n",
    "\n",
    "interactive_plot = interactive(plot_func, a=(-1,0,0.1), f=(0.1, 1))\n",
    "output = interactive_plot.children[-1]\n",
    "output.layout.height = '300px'\n",
    "interactive_plot"
   ]
  },
  {
   "cell_type": "code",
   "execution_count": null,
   "metadata": {},
   "outputs": [],
   "source": []
  },
  {
   "cell_type": "code",
   "execution_count": null,
   "metadata": {},
   "outputs": [],
   "source": []
  }
 ],
 "metadata": {
  "kernelspec": {
   "display_name": "Python 3",
   "language": "python",
   "name": "python3"
  },
  "language_info": {
   "codemirror_mode": {
    "name": "ipython",
    "version": 3
   },
   "file_extension": ".py",
   "mimetype": "text/x-python",
   "name": "python",
   "nbconvert_exporter": "python",
   "pygments_lexer": "ipython3",
   "version": "3.9.1"
  }
 },
 "nbformat": 4,
 "nbformat_minor": 4
}
